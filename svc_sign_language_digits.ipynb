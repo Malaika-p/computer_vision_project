{
 "cells": [
  {
   "cell_type": "markdown",
   "metadata": {},
   "source": [
    "# SVC : Sign Language Digits"
   ]
  },
  {
   "cell_type": "markdown",
   "metadata": {},
   "source": [
    "## We charge the Libs"
   ]
  },
  {
   "cell_type": "code",
   "execution_count": 1,
   "metadata": {},
   "outputs": [],
   "source": [
    "import pandas as pd\n",
    "import numpy as np\n",
    "from pprint import pprint\n",
    "from sklearn.model_selection import train_test_split\n",
    "from sklearn.svm import SVC"
   ]
  },
  {
   "cell_type": "markdown",
   "metadata": {},
   "source": [
    "## we load ours data"
   ]
  },
  {
   "cell_type": "code",
   "execution_count": 2,
   "metadata": {},
   "outputs": [],
   "source": [
    "x_full = np.load('X.npy')\n",
    "y_full = np.load('Y.npy')"
   ]
  },
  {
   "cell_type": "markdown",
   "metadata": {},
   "source": [
    "## We split ours data in train and dev set with a fixed seed"
   ]
  },
  {
   "cell_type": "code",
   "execution_count": 3,
   "metadata": {},
   "outputs": [],
   "source": [
    "fixed_state = 42\n",
    "x_train, x_dev = train_test_split(x_full, test_size = 0.3, random_state=fixed_state)\n",
    "y_train, y_dev = train_test_split(y_full, test_size = 0.3, random_state=fixed_state)"
   ]
  },
  {
   "cell_type": "markdown",
   "metadata": {},
   "source": [
    "## We reshape the x in a 2d array "
   ]
  },
  {
   "cell_type": "code",
   "execution_count": 4,
   "metadata": {},
   "outputs": [],
   "source": [
    "x_train_flat = x_train.reshape(x_train.shape[0], x_train.shape[1]*x_train.shape[2])\n",
    "x_dev_flat = x_dev.reshape(x_dev.shape[0], x_dev.shape[1]*x_dev.shape[2])"
   ]
  },
  {
   "cell_type": "markdown",
   "metadata": {},
   "source": [
    "## We reshape the y "
   ]
  },
  {
   "cell_type": "code",
   "execution_count": 5,
   "metadata": {},
   "outputs": [],
   "source": [
    "y_train_flat = [list(y).index(1) for y in y_train]\n",
    "y_dev_flat = [list(y).index(1) for y in y_dev]"
   ]
  },
  {
   "cell_type": "markdown",
   "metadata": {},
   "source": [
    "## We initialyse the model"
   ]
  },
  {
   "cell_type": "code",
   "execution_count": 6,
   "metadata": {},
   "outputs": [],
   "source": [
    "model = SVC()"
   ]
  },
  {
   "cell_type": "markdown",
   "metadata": {},
   "source": [
    "## We  fit the model"
   ]
  },
  {
   "cell_type": "code",
   "execution_count": 7,
   "metadata": {
    "scrolled": true
   },
   "outputs": [
    {
     "name": "stderr",
     "output_type": "stream",
     "text": [
      "/opt/conda/lib/python3.7/site-packages/sklearn/svm/base.py:196: FutureWarning: The default value of gamma will change from 'auto' to 'scale' in version 0.22 to account better for unscaled features. Set gamma explicitly to 'auto' or 'scale' to avoid this warning.\n",
      "  \"avoid this warning.\", FutureWarning)\n"
     ]
    },
    {
     "data": {
      "text/plain": [
       "SVC(C=1.0, cache_size=200, class_weight=None, coef0=0.0,\n",
       "  decision_function_shape='ovr', degree=3, gamma='auto_deprecated',\n",
       "  kernel='rbf', max_iter=-1, probability=False, random_state=None,\n",
       "  shrinking=True, tol=0.001, verbose=False)"
      ]
     },
     "execution_count": 7,
     "metadata": {},
     "output_type": "execute_result"
    }
   ],
   "source": [
    "model.fit(x_train_flat, y_train_flat)"
   ]
  },
  {
   "cell_type": "markdown",
   "metadata": {},
   "source": [
    "## we get prediction in the dev set"
   ]
  },
  {
   "cell_type": "code",
   "execution_count": 8,
   "metadata": {},
   "outputs": [
    {
     "data": {
      "text/plain": [
       "array([5, 9, 4, 9, 0, 5, 4, 4, 5, 5, 4, 9, 8, 1, 5, 5, 0, 5, 0, 9, 0, 4,\n",
       "       5, 1, 9, 1, 7, 5, 5, 9, 1, 5, 4, 9, 4, 5, 5, 1, 0, 5, 4, 4, 4, 1,\n",
       "       1, 5, 5, 9, 4, 9, 1, 9, 5, 5, 1, 0, 0, 1, 4, 4, 5, 7, 4, 4, 5, 9,\n",
       "       5, 4, 9, 4, 1, 1, 5, 7, 1, 9, 9, 5, 5, 4, 4, 9, 5, 0, 5, 5, 0, 4,\n",
       "       1, 9, 5, 5, 9, 4, 4, 4, 4, 5, 5, 9, 4, 5, 9, 0, 5, 1, 4, 1, 4, 7,\n",
       "       5, 4, 5, 4, 5, 5, 5, 5, 5, 5, 5, 5, 4, 5, 5, 5, 5, 4, 1, 0, 5, 1,\n",
       "       9, 9, 5, 8, 4, 9, 5, 4, 5, 5, 5, 5, 9, 1, 5, 5, 5, 4, 5, 5, 5, 4,\n",
       "       5, 5, 5, 5, 5, 1, 4, 5, 0, 5, 5, 5, 4, 0, 5, 0, 4, 4, 5, 9, 1, 5,\n",
       "       1, 5, 5, 5, 1, 7, 4, 4, 1, 5, 4, 5, 1, 4, 4, 5, 1, 0, 5, 0, 4, 4,\n",
       "       4, 5, 4, 5, 0, 5, 4, 4, 5, 5, 5, 4, 9, 0, 5, 4, 5, 5, 1, 5, 5, 0,\n",
       "       4, 5, 5, 1, 0, 5, 4, 4, 5, 5, 8, 4, 9, 5, 5, 1, 5, 4, 5, 5, 9, 4,\n",
       "       1, 5, 9, 0, 1, 5, 5, 0, 5, 4, 5, 0, 0, 4, 5, 5, 9, 4, 4, 8, 9, 5,\n",
       "       5, 5, 4, 7, 7, 5, 1, 1, 4, 9, 5, 7, 4, 5, 5, 5, 5, 5, 1, 9, 9, 9,\n",
       "       5, 9, 4, 5, 5, 5, 0, 4, 0, 5, 5, 4, 1, 5, 0, 4, 5, 5, 4, 8, 5, 0,\n",
       "       5, 9, 4, 5, 1, 9, 5, 4, 5, 5, 0, 5, 5, 4, 5, 5, 5, 5, 4, 0, 3, 1,\n",
       "       5, 1, 1, 5, 0, 0, 5, 0, 5, 4, 4, 5, 5, 9, 5, 9, 4, 5, 5, 0, 4, 0,\n",
       "       7, 4, 4, 1, 0, 7, 5, 1, 1, 9, 1, 9, 9, 9, 5, 4, 5, 5, 5, 5, 5, 5,\n",
       "       1, 9, 4, 5, 9, 4, 7, 4, 4, 4, 5, 5, 4, 9, 9, 7, 5, 5, 4, 5, 5, 4,\n",
       "       0, 4, 1, 4, 4, 0, 5, 4, 1, 5, 0, 5, 4, 5, 5, 5, 1, 4, 9, 5, 0, 8,\n",
       "       5, 5, 5, 7, 5, 9, 5, 4, 4, 5, 8, 4, 4, 4, 5, 4, 5, 0, 7, 8, 5, 1,\n",
       "       4, 5, 5, 7, 1, 4, 5, 5, 5, 4, 5, 5, 9, 5, 1, 5, 5, 9, 4, 5, 4, 5,\n",
       "       8, 1, 0, 0, 4, 4, 5, 0, 5, 9, 5, 4, 5, 7, 4, 5, 4, 1, 5, 4, 5, 4,\n",
       "       1, 5, 5, 1, 5, 4, 4, 5, 8, 9, 5, 4, 0, 4, 5, 7, 4, 0, 5, 5, 4, 5,\n",
       "       9, 5, 1, 5, 1, 1, 1, 1, 4, 4, 1, 4, 5, 5, 4, 9, 5, 1, 9, 1, 4, 8,\n",
       "       4, 5, 5, 5, 9, 5, 5, 5, 7, 5, 5, 4, 5, 5, 0, 0, 5, 5, 9, 4, 4, 5,\n",
       "       1, 4, 5, 5, 4, 5, 5, 4, 5, 4, 1, 5, 5, 5, 5, 5, 4, 5, 9, 0, 5, 5,\n",
       "       5, 5, 4, 1, 5, 4, 5, 4, 4, 5, 4, 9, 5, 5, 5, 0, 1, 9, 0, 4, 0, 9,\n",
       "       0, 9, 4, 5, 4, 5, 4, 7, 5, 4, 5, 0, 5, 5, 5, 4, 5, 5, 5, 9, 3, 0,\n",
       "       5, 5, 5])"
      ]
     },
     "execution_count": 8,
     "metadata": {},
     "output_type": "execute_result"
    }
   ],
   "source": [
    "predictions = model.predict(x_dev_flat)\n",
    "predictions"
   ]
  },
  {
   "cell_type": "markdown",
   "metadata": {},
   "source": [
    "## We count good and bad predictions"
   ]
  },
  {
   "cell_type": "code",
   "execution_count": 10,
   "metadata": {},
   "outputs": [
    {
     "name": "stdout",
     "output_type": "stream",
     "text": [
      "Nombres de prédictions Valide : 244\n",
      "Nombres de mauvaise prédictions : 375\n"
     ]
    }
   ],
   "source": [
    "predict_ok = []\n",
    "true = 0\n",
    "false = 0\n",
    "for i in range(len(predictions)):\n",
    "    if predictions[i] == y_dev_flat[i]:\n",
    "        p = True \n",
    "        true += 1\n",
    "        \n",
    "    else:\n",
    "        p = False\n",
    "        false += 1\n",
    "    \n",
    "    predict_ok.append(p)\n",
    "        \n",
    "        \n",
    "predict_ok\n",
    "print('Nombres de prédictions Valide :',true)\n",
    "print('Nombres de mauvaise prédictions :',false)"
   ]
  }
 ],
 "metadata": {
  "kernelspec": {
   "display_name": "Python 3",
   "language": "python",
   "name": "python3"
  },
  "language_info": {
   "codemirror_mode": {
    "name": "ipython",
    "version": 3
   },
   "file_extension": ".py",
   "mimetype": "text/x-python",
   "name": "python",
   "nbconvert_exporter": "python",
   "pygments_lexer": "ipython3",
   "version": "3.7.3"
  }
 },
 "nbformat": 4,
 "nbformat_minor": 2
}
