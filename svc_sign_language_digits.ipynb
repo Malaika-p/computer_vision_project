{
 "cells": [
  {
   "cell_type": "markdown",
   "metadata": {},
   "source": [
    "# SVC : Sign Language Digits"
   ]
  },
  {
   "cell_type": "markdown",
   "metadata": {},
   "source": [
    "## We charge the Libs"
   ]
  },
  {
   "cell_type": "code",
   "execution_count": 1,
   "metadata": {},
   "outputs": [],
   "source": [
    "import pandas as pd\n",
    "import numpy as np\n",
    "from pprint import pprint\n",
    "from sklearn.model_selection import train_test_split\n",
    "from sklearn.svm import SVC\n",
    "import sklearn.metrics\n",
    "from sklearn.metrics import confusion_matrix, accuracy_score\n",
    "from xgboost import XGBClassifier\n",
    "from sklearn.utils.multiclass import unique_labels\n",
    "import seaborn as sn\n",
    "import pandas as pd\n",
    "import matplotlib.pyplot as plt\n",
    "\n",
    "%matplotlib notebook"
   ]
  },
  {
   "cell_type": "markdown",
   "metadata": {},
   "source": [
    "## we load ours data"
   ]
  },
  {
   "cell_type": "code",
   "execution_count": 2,
   "metadata": {},
   "outputs": [],
   "source": [
    "x_full = np.load('X.npy')\n",
    "y_full = np.load('Y.npy')"
   ]
  },
  {
   "cell_type": "markdown",
   "metadata": {},
   "source": [
    "## We split ours data in train and dev set with a fixed seed"
   ]
  },
  {
   "cell_type": "code",
   "execution_count": 3,
   "metadata": {},
   "outputs": [],
   "source": [
    "fixed_state = 42\n",
    "x_train, x_dev = train_test_split(x_full, test_size = 0.3, random_state=fixed_state)\n",
    "y_train, y_dev = train_test_split(y_full, test_size = 0.3, random_state=fixed_state)"
   ]
  },
  {
   "cell_type": "markdown",
   "metadata": {},
   "source": [
    "## We reshape the x in a 2d array "
   ]
  },
  {
   "cell_type": "code",
   "execution_count": 4,
   "metadata": {},
   "outputs": [],
   "source": [
    "x_train_flat = x_train.reshape(x_train.shape[0], x_train.shape[1]*x_train.shape[2])\n",
    "x_dev_flat = x_dev.reshape(x_dev.shape[0], x_dev.shape[1]*x_dev.shape[2])"
   ]
  },
  {
   "cell_type": "markdown",
   "metadata": {},
   "source": [
    "## We reshape the y "
   ]
  },
  {
   "cell_type": "code",
   "execution_count": 5,
   "metadata": {},
   "outputs": [],
   "source": [
    "y_train_flat = [list(y).index(1) for y in y_train]\n",
    "y_dev_flat = [list(y).index(1) for y in y_dev]"
   ]
  },
  {
   "cell_type": "markdown",
   "metadata": {},
   "source": [
    "## We initialyse the model\n",
    "* for SVM we need to had a parameter ex : gamma='scale'"
   ]
  },
  {
   "cell_type": "code",
   "execution_count": 6,
   "metadata": {},
   "outputs": [],
   "source": [
    "model = SVC(gamma='scale')"
   ]
  },
  {
   "cell_type": "markdown",
   "metadata": {},
   "source": [
    "## We  fit the model"
   ]
  },
  {
   "cell_type": "code",
   "execution_count": 7,
   "metadata": {
    "scrolled": true
   },
   "outputs": [
    {
     "data": {
      "text/plain": [
       "SVC(C=1.0, cache_size=200, class_weight=None, coef0=0.0,\n",
       "    decision_function_shape='ovr', degree=3, gamma='scale', kernel='rbf',\n",
       "    max_iter=-1, probability=False, random_state=None, shrinking=True,\n",
       "    tol=0.001, verbose=False)"
      ]
     },
     "execution_count": 7,
     "metadata": {},
     "output_type": "execute_result"
    }
   ],
   "source": [
    "model.fit(x_train_flat, y_train_flat)"
   ]
  },
  {
   "cell_type": "markdown",
   "metadata": {},
   "source": [
    "## we get prediction in the dev set"
   ]
  },
  {
   "cell_type": "code",
   "execution_count": 8,
   "metadata": {},
   "outputs": [
    {
     "data": {
      "text/plain": [
       "array([3, 9, 3, 9, 0, 0, 8, 2, 5, 9, 4, 9, 7, 1, 2, 3, 0, 5, 0, 7, 0, 2,\n",
       "       3, 1, 9, 1, 7, 3, 5, 9, 8, 5, 4, 6, 4, 6, 3, 1, 9, 2, 7, 7, 1, 1,\n",
       "       1, 2, 0, 7, 8, 9, 1, 9, 2, 2, 1, 0, 6, 8, 2, 8, 2, 7, 2, 7, 5, 9,\n",
       "       2, 2, 9, 4, 1, 1, 2, 7, 4, 9, 9, 5, 3, 8, 2, 9, 2, 0, 0, 0, 0, 4,\n",
       "       1, 2, 5, 3, 7, 4, 7, 4, 2, 2, 8, 9, 2, 0, 9, 0, 3, 1, 8, 8, 8, 7,\n",
       "       5, 8, 3, 3, 2, 5, 6, 1, 2, 5, 5, 0, 1, 5, 8, 2, 6, 5, 1, 0, 3, 1,\n",
       "       9, 9, 8, 3, 8, 9, 5, 8, 2, 2, 2, 6, 6, 1, 6, 2, 5, 4, 9, 2, 5, 2,\n",
       "       6, 2, 6, 6, 1, 1, 4, 5, 9, 8, 2, 2, 4, 7, 6, 9, 3, 7, 2, 9, 1, 3,\n",
       "       7, 2, 0, 2, 1, 7, 4, 2, 1, 6, 3, 2, 4, 8, 8, 6, 8, 3, 2, 0, 8, 3,\n",
       "       8, 1, 4, 7, 0, 2, 2, 4, 2, 5, 8, 8, 9, 0, 2, 8, 5, 3, 1, 3, 5, 0,\n",
       "       6, 4, 6, 1, 7, 5, 4, 1, 6, 5, 8, 4, 7, 6, 2, 1, 5, 4, 6, 6, 9, 3,\n",
       "       1, 0, 9, 0, 1, 2, 3, 9, 5, 4, 2, 0, 0, 4, 2, 5, 9, 2, 4, 7, 9, 8,\n",
       "       3, 7, 3, 7, 7, 1, 1, 1, 4, 9, 2, 7, 7, 3, 6, 7, 5, 3, 6, 9, 1, 9,\n",
       "       2, 9, 8, 3, 0, 7, 0, 8, 0, 6, 5, 8, 1, 0, 0, 3, 3, 3, 8, 3, 2, 9,\n",
       "       0, 9, 6, 6, 1, 9, 9, 4, 6, 3, 0, 5, 5, 8, 0, 0, 3, 2, 4, 9, 3, 1,\n",
       "       0, 4, 1, 2, 2, 0, 9, 7, 6, 4, 8, 6, 5, 6, 5, 9, 2, 5, 5, 7, 4, 7,\n",
       "       7, 8, 3, 1, 0, 7, 0, 1, 1, 9, 1, 9, 9, 7, 5, 4, 6, 3, 5, 3, 3, 1,\n",
       "       1, 9, 4, 0, 9, 4, 7, 8, 1, 4, 6, 3, 2, 9, 9, 7, 6, 0, 2, 8, 6, 8,\n",
       "       0, 8, 1, 2, 2, 0, 5, 2, 1, 2, 0, 5, 3, 2, 2, 3, 1, 5, 9, 3, 0, 8,\n",
       "       2, 3, 3, 7, 2, 7, 2, 4, 4, 8, 8, 4, 4, 4, 2, 4, 3, 7, 7, 8, 0, 3,\n",
       "       2, 3, 2, 9, 1, 7, 5, 1, 2, 4, 2, 2, 7, 2, 1, 6, 6, 7, 8, 3, 8, 0,\n",
       "       8, 1, 0, 0, 8, 8, 1, 7, 3, 9, 5, 4, 2, 7, 4, 3, 4, 4, 2, 8, 6, 7,\n",
       "       1, 3, 3, 1, 6, 8, 2, 0, 7, 7, 1, 6, 6, 4, 3, 7, 4, 0, 6, 0, 4, 6,\n",
       "       9, 5, 1, 3, 1, 6, 1, 1, 7, 2, 1, 1, 2, 9, 8, 9, 2, 1, 7, 1, 2, 8,\n",
       "       1, 2, 5, 2, 9, 7, 7, 6, 7, 8, 3, 2, 6, 3, 0, 0, 5, 5, 9, 8, 4, 3,\n",
       "       1, 8, 8, 4, 1, 1, 3, 8, 6, 2, 1, 3, 5, 6, 5, 0, 4, 6, 9, 9, 2, 2,\n",
       "       7, 2, 3, 0, 3, 2, 5, 7, 4, 3, 7, 7, 6, 3, 3, 0, 1, 9, 0, 4, 7, 9,\n",
       "       0, 9, 2, 9, 4, 0, 4, 7, 6, 8, 2, 0, 6, 6, 5, 4, 2, 5, 2, 9, 3, 9,\n",
       "       3, 3, 1])"
      ]
     },
     "execution_count": 8,
     "metadata": {},
     "output_type": "execute_result"
    }
   ],
   "source": [
    "predictions = model.predict(x_dev_flat)\n",
    "predictions"
   ]
  },
  {
   "cell_type": "markdown",
   "metadata": {},
   "source": [
    "## We count good and bad predictions"
   ]
  },
  {
   "cell_type": "code",
   "execution_count": 9,
   "metadata": {},
   "outputs": [
    {
     "name": "stdout",
     "output_type": "stream",
     "text": [
      "Nombres de prédictions Valide : 518\n",
      "Nombres de mauvaise prédictions : 101\n"
     ]
    }
   ],
   "source": [
    "predict_ok = []\n",
    "true = 0\n",
    "false = 0\n",
    "for i in range(len(predictions)):\n",
    "    if predictions[i] == y_dev_flat[i]:\n",
    "        p = True \n",
    "        true += 1\n",
    "        \n",
    "    else:\n",
    "        p = False\n",
    "        false += 1\n",
    "    \n",
    "    predict_ok.append(p)\n",
    "        \n",
    "        \n",
    "predict_ok\n",
    "print('Nombres de prédictions Valide :',true)\n",
    "print('Nombres de mauvaise prédictions :',false)"
   ]
  },
  {
   "cell_type": "markdown",
   "metadata": {},
   "source": [
    "## We get the confusion matrix "
   ]
  },
  {
   "cell_type": "code",
   "execution_count": 10,
   "metadata": {
    "scrolled": true
   },
   "outputs": [
    {
     "data": {
      "text/plain": [
       "array([[54,  0,  0,  0,  0,  0,  1,  0,  0,  0],\n",
       "       [ 0, 65,  1,  2,  0,  1,  1,  0,  0,  0],\n",
       "       [ 0,  1, 60,  3,  1,  4,  2,  0,  5,  0],\n",
       "       [ 0,  1,  5, 51,  1,  0,  2,  0,  3,  0],\n",
       "       [ 0,  2,  0,  1, 46,  1,  1,  1,  0,  0],\n",
       "       [ 2,  1,  6,  0,  0, 42,  1,  0,  2,  1],\n",
       "       [ 2,  1,  9,  7,  0,  1, 41,  0,  1,  3],\n",
       "       [ 0,  0,  0,  0,  1,  0,  0, 58,  2,  1],\n",
       "       [ 0,  0,  9,  3,  5,  0,  0,  0, 43,  0],\n",
       "       [ 1,  0,  0,  0,  0,  0,  2,  0,  0, 58]])"
      ]
     },
     "execution_count": 10,
     "metadata": {},
     "output_type": "execute_result"
    }
   ],
   "source": [
    "matrix_conf = confusion_matrix(list(y_dev_flat), predictions)\n",
    "matrix_conf"
   ]
  },
  {
   "cell_type": "markdown",
   "metadata": {},
   "source": [
    "## We display the plot of confusion matrix"
   ]
  },
  {
   "cell_type": "code",
   "execution_count": 11,
   "metadata": {},
   "outputs": [
    {
     "data": {
      "image/png": "[encoded data removed]",
      "text/plain": [
       "<Figure size 720x720 with 2 Axes>"
      ]
     },
     "metadata": {
      "needs_background": "light"
     },
     "output_type": "display_data"
    }
   ],
   "source": [
    "df_cm = pd.DataFrame(matrix_conf, range(10))\n",
    "plt.figure(figsize = (10,10))\n",
    "sn.set(font_scale=1.4)#for label size\n",
    "sn.heatmap(matrix_conf, annot=True,annot_kws={\"size\": 16})# font size\n",
    "\n",
    "plt.show()"
   ]
  },
  {
   "cell_type": "markdown",
   "metadata": {},
   "source": [
    "## We get the accuracy"
   ]
  },
  {
   "cell_type": "code",
   "execution_count": 12,
   "metadata": {},
   "outputs": [
    {
     "name": "stdout",
     "output_type": "stream",
     "text": [
      "L'accuracy SVM - SVC :  0.8368336025848142\n"
     ]
    }
   ],
   "source": [
    "accuracy_svm = accuracy_score(y_dev_flat, predictions)\n",
    "print(\"L'accuracy SVM - SVC : \",accuracy_svm)"
   ]
  },
  {
   "cell_type": "markdown",
   "metadata": {},
   "source": [
    "## XGBoost"
   ]
  },
  {
   "cell_type": "markdown",
   "metadata": {},
   "source": [
    "## We initialyse the model"
   ]
  },
  {
   "cell_type": "code",
   "execution_count": 13,
   "metadata": {},
   "outputs": [],
   "source": [
    "model = XGBClassifier()"
   ]
  },
  {
   "cell_type": "markdown",
   "metadata": {},
   "source": [
    "## We  fit the model"
   ]
  },
  {
   "cell_type": "code",
   "execution_count": 14,
   "metadata": {},
   "outputs": [
    {
     "data": {
      "text/plain": [
       "XGBClassifier(base_score=0.5, booster='gbtree', colsample_bylevel=1,\n",
       "              colsample_bynode=1, colsample_bytree=1, gamma=0,\n",
       "              learning_rate=0.1, max_delta_step=0, max_depth=3,\n",
       "              min_child_weight=1, missing=None, n_estimators=100, n_jobs=1,\n",
       "              nthread=None, objective='multi:softprob', random_state=0,\n",
       "              reg_alpha=0, reg_lambda=1, scale_pos_weight=1, seed=None,\n",
       "              silent=None, subsample=1, verbosity=1)"
      ]
     },
     "execution_count": 14,
     "metadata": {},
     "output_type": "execute_result"
    }
   ],
   "source": [
    "model.fit(x_train_flat, y_train_flat)"
   ]
  },
  {
   "cell_type": "markdown",
   "metadata": {},
   "source": [
    "## we get prediction in the dev set"
   ]
  },
  {
   "cell_type": "code",
   "execution_count": 15,
   "metadata": {},
   "outputs": [
    {
     "data": {
      "text/plain": [
       "array([2, 9, 3, 9, 0, 2, 3, 2, 6, 7, 4, 9, 7, 1, 2, 8, 0, 5, 0, 7, 0, 2,\n",
       "       3, 1, 9, 2, 7, 3, 5, 9, 6, 5, 4, 6, 8, 6, 3, 1, 9, 2, 8, 8, 4, 1,\n",
       "       1, 2, 5, 7, 8, 9, 1, 9, 6, 2, 1, 0, 2, 8, 2, 8, 2, 7, 2, 8, 5, 9,\n",
       "       2, 2, 6, 4, 1, 1, 2, 7, 4, 9, 9, 4, 3, 8, 8, 9, 2, 0, 0, 0, 2, 4,\n",
       "       1, 4, 5, 4, 7, 4, 7, 4, 2, 2, 8, 9, 4, 0, 9, 0, 2, 1, 8, 2, 8, 7,\n",
       "       5, 8, 5, 3, 6, 5, 3, 1, 5, 5, 2, 0, 4, 5, 8, 2, 6, 5, 1, 0, 3, 1,\n",
       "       9, 9, 8, 3, 3, 9, 5, 2, 2, 2, 2, 6, 6, 1, 6, 2, 4, 4, 9, 2, 0, 2,\n",
       "       6, 2, 2, 6, 4, 1, 7, 4, 9, 8, 5, 2, 4, 7, 6, 9, 3, 7, 2, 9, 1, 6,\n",
       "       7, 6, 0, 2, 1, 7, 4, 4, 1, 6, 6, 2, 4, 2, 8, 6, 8, 3, 2, 0, 8, 8,\n",
       "       8, 5, 5, 7, 0, 8, 4, 4, 2, 5, 8, 8, 7, 0, 2, 8, 5, 3, 4, 3, 5, 0,\n",
       "       6, 4, 3, 1, 7, 6, 4, 1, 7, 5, 8, 4, 7, 6, 2, 1, 2, 4, 6, 3, 5, 3,\n",
       "       1, 0, 9, 0, 1, 2, 3, 7, 5, 4, 2, 0, 0, 4, 8, 5, 9, 2, 4, 7, 7, 8,\n",
       "       3, 7, 3, 7, 7, 1, 1, 1, 3, 9, 5, 7, 7, 3, 6, 7, 5, 3, 6, 9, 1, 9,\n",
       "       2, 9, 3, 3, 0, 0, 0, 8, 0, 6, 5, 2, 1, 0, 0, 8, 3, 0, 8, 3, 2, 9,\n",
       "       0, 9, 6, 6, 1, 9, 7, 4, 6, 8, 0, 6, 5, 6, 0, 0, 3, 2, 8, 7, 3, 1,\n",
       "       0, 1, 1, 2, 2, 0, 9, 7, 6, 4, 8, 6, 5, 6, 5, 9, 2, 5, 5, 7, 4, 7,\n",
       "       7, 3, 3, 1, 0, 7, 0, 1, 1, 9, 1, 9, 9, 7, 5, 4, 0, 3, 5, 3, 3, 6,\n",
       "       1, 5, 4, 0, 9, 4, 7, 8, 1, 4, 6, 3, 2, 9, 9, 7, 6, 0, 2, 8, 6, 8,\n",
       "       0, 8, 1, 6, 2, 0, 5, 2, 1, 2, 0, 5, 3, 2, 4, 3, 4, 5, 9, 8, 6, 8,\n",
       "       2, 3, 3, 7, 6, 7, 2, 4, 4, 8, 8, 4, 4, 4, 2, 4, 3, 7, 7, 8, 0, 1,\n",
       "       2, 3, 8, 6, 1, 7, 5, 8, 4, 8, 2, 2, 7, 2, 1, 6, 6, 7, 8, 3, 2, 0,\n",
       "       8, 1, 0, 0, 8, 8, 6, 7, 3, 9, 5, 4, 2, 7, 4, 3, 4, 1, 2, 8, 6, 7,\n",
       "       1, 3, 3, 1, 6, 8, 2, 0, 7, 7, 1, 3, 9, 4, 3, 7, 4, 0, 6, 0, 4, 6,\n",
       "       9, 5, 1, 3, 1, 3, 1, 1, 7, 2, 1, 0, 2, 7, 8, 7, 8, 1, 7, 1, 2, 7,\n",
       "       6, 4, 5, 2, 9, 9, 7, 6, 7, 2, 8, 2, 6, 3, 0, 0, 5, 4, 7, 7, 4, 3,\n",
       "       1, 8, 8, 4, 4, 1, 3, 8, 3, 2, 1, 3, 5, 6, 5, 5, 2, 3, 9, 9, 2, 6,\n",
       "       5, 2, 3, 0, 3, 4, 5, 7, 4, 3, 8, 9, 3, 8, 3, 0, 1, 9, 0, 4, 7, 9,\n",
       "       0, 9, 4, 7, 4, 4, 4, 7, 6, 8, 2, 0, 6, 6, 5, 4, 2, 5, 6, 9, 3, 9,\n",
       "       3, 3, 4])"
      ]
     },
     "execution_count": 15,
     "metadata": {},
     "output_type": "execute_result"
    }
   ],
   "source": [
    "predictions_xg = model.predict(x_dev_flat)\n",
    "predictions_xg"
   ]
  },
  {
   "cell_type": "markdown",
   "metadata": {},
   "source": [
    "## We get the confusion matrix "
   ]
  },
  {
   "cell_type": "code",
   "execution_count": 16,
   "metadata": {},
   "outputs": [
    {
     "data": {
      "text/plain": [
       "array([[50,  0,  1,  0,  0,  2,  2,  0,  0,  0],\n",
       "       [ 2, 55,  0,  2,  6,  0,  4,  0,  1,  0],\n",
       "       [ 0,  0, 56,  1,  5,  4,  5,  0,  5,  0],\n",
       "       [ 1,  1,  5, 44,  1,  1,  2,  0,  8,  0],\n",
       "       [ 0,  3,  0,  1, 44,  2,  0,  0,  2,  0],\n",
       "       [ 0,  0,  6,  0,  6, 38,  4,  0,  1,  0],\n",
       "       [ 3,  1,  7, 10,  0,  2, 37,  1,  1,  3],\n",
       "       [ 1,  0,  0,  0,  0,  0,  0, 52,  6,  3],\n",
       "       [ 0,  0,  7,  7,  5,  0,  2,  1, 38,  0],\n",
       "       [ 1,  0,  0,  0,  0,  1,  2, 11,  0, 46]])"
      ]
     },
     "execution_count": 16,
     "metadata": {},
     "output_type": "execute_result"
    }
   ],
   "source": [
    "matrix_conf_xg = confusion_matrix(list(y_dev_flat), predictions_xg)\n",
    "matrix_conf_xg"
   ]
  },
  {
   "cell_type": "markdown",
   "metadata": {},
   "source": [
    "## We display the plot of confusion matrix"
   ]
  },
  {
   "cell_type": "code",
   "execution_count": 17,
   "metadata": {},
   "outputs": [
    {
     "data": {
      "image/png": "[encoded data removed]",
      "text/plain": [
       "<Figure size 720x720 with 2 Axes>"
      ]
     },
     "metadata": {},
     "output_type": "display_data"
    }
   ],
   "source": [
    "df_cm = pd.DataFrame(matrix_conf_xg, range(10))\n",
    "plt.figure(figsize = (10,10))\n",
    "sn.set(font_scale=1.4)#for label size\n",
    "sn.heatmap(matrix_conf_xg, annot=True,annot_kws={\"size\": 16})# font size\n",
    "\n",
    "plt.show()"
   ]
  },
  {
   "cell_type": "markdown",
   "metadata": {},
   "source": [
    "## We count good and bad predictions"
   ]
  },
  {
   "cell_type": "code",
   "execution_count": 18,
   "metadata": {},
   "outputs": [
    {
     "name": "stdout",
     "output_type": "stream",
     "text": [
      "Nombres de prédictions Valide : 460\n",
      "Nombres de mauvaise prédictions : 159\n"
     ]
    }
   ],
   "source": [
    "predict_ok_xg = []\n",
    "true = 0\n",
    "false = 0\n",
    "for i in range(len(predictions_xg)):\n",
    "    if predictions_xg[i] == y_dev_flat[i]:\n",
    "        p = True \n",
    "        true += 1\n",
    "        \n",
    "    else:\n",
    "        p = False\n",
    "        false += 1\n",
    "    \n",
    "    predict_ok_xg.append(p)\n",
    "        \n",
    "        \n",
    "predict_ok\n",
    "print('Nombres de prédictions Valide :',true)\n",
    "print('Nombres de mauvaise prédictions :',false)"
   ]
  },
  {
   "cell_type": "markdown",
   "metadata": {},
   "source": [
    "## We get the accuracy"
   ]
  },
  {
   "cell_type": "code",
   "execution_count": 19,
   "metadata": {},
   "outputs": [
    {
     "name": "stdout",
     "output_type": "stream",
     "text": [
      "L'accuracy XGBoost :  0.7431340872374798\n"
     ]
    }
   ],
   "source": [
    "accuracy_xgboost = accuracy_score(y_dev_flat, predictions_xg)\n",
    "print(\"L'accuracy XGBoost : \",accuracy_xgboost)"
   ]
  },
  {
   "cell_type": "code",
   "execution_count": null,
   "metadata": {},
   "outputs": [],
   "source": []
  }
 ],
 "metadata": {
  "kernelspec": {
   "display_name": "Python 3",
   "language": "python",
   "name": "python3"
  },
  "language_info": {
   "codemirror_mode": {
    "name": "ipython",
    "version": 3
   },
   "file_extension": ".py",
   "mimetype": "text/x-python",
   "name": "python",
   "nbconvert_exporter": "python",
   "pygments_lexer": "ipython3",
   "version": "3.7.3"
  }
 },
 "nbformat": 4,
 "nbformat_minor": 2
}
